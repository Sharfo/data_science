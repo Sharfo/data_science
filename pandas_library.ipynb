{
 "cells": [
  {
   "cell_type": "markdown",
   "metadata": {},
   "source": [
    "# Why pandas ?\n",
    "        - Data Manipulation\n",
    "        - Data Analysis\n",
    "\n",
    "#### Data Manipulation:-\n",
    "                        A process of manipulating or changing information in data to make it more organize and readable\n",
    "#### Data Analysis:-\n",
    "                        it is the technique to collect, transform, and organize data to make future predictions, and make\n",
    "informed data-driven decisions.\n",
    "#### types :-\n",
    "        1. Discriptive Analytics : what happened ?\n",
    "        2. Diagnostics Analytics : why did it happened ?\n",
    "        3. Predictive Analytics  : what is likely to happened in future ?\n",
    "        4. Prescriptive Analytics: what is best course of action to take ? \n"
   ]
  },
  {
   "cell_type": "code",
   "execution_count": null,
   "metadata": {},
   "outputs": [],
   "source": []
  }
 ],
 "metadata": {
  "interpreter": {
   "hash": "21dafc2371cdd2f391dffb104eeffab0400693f7ea0c196f64d2c7f593c6b779"
  },
  "kernelspec": {
   "display_name": "Python 3.10.1 64-bit",
   "language": "python",
   "name": "python3"
  },
  "language_info": {
   "name": "python",
   "version": "3.10.1"
  },
  "orig_nbformat": 4
 },
 "nbformat": 4,
 "nbformat_minor": 2
}
