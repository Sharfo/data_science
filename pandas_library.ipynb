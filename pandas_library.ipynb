{
 "cells": [
  {
   "cell_type": "markdown",
   "metadata": {},
   "source": [
    "# Why pandas ?\n",
    "        - Data Manipulation\n",
    "        - Data Analysis\n",
    "\n",
    "#### Data Manipulation:-\n",
    "                        A process of manipulating or changing information in data to make it more organize and readable\n",
    "#### Data Analysis:-\n",
    "                        it is the technique to collect, transform, and organize data to make future predictions, and make\n",
    "informed data-driven decisions.\n",
    "#### types :-\n",
    "        1. Discriptive Analytics : what happened ?\n",
    "        2. Diagnostics Analytics : why did it happened ?\n",
    "        3. Predictive Analytics  : what is likely to happened in future ?\n",
    "        4. Prescriptive Analytics: what is best course of action to take ? \n"
   ]
  },
  {
   "cell_type": "markdown",
   "metadata": {},
   "source": [
    "- install libraries "
   ]
  },
  {
   "cell_type": "code",
   "execution_count": 1,
   "metadata": {},
   "outputs": [],
   "source": [
    "#pip install pandas\n",
    "#pip install numpy"
   ]
  },
  {
   "cell_type": "markdown",
   "metadata": {},
   "source": [
    "- import libraries"
   ]
  },
  {
   "cell_type": "code",
   "execution_count": 2,
   "metadata": {},
   "outputs": [],
   "source": [
    "import pandas as pd \n",
    "import numpy as np "
   ]
  },
  {
   "cell_type": "markdown",
   "metadata": {},
   "source": [
    "### Generating Raw Data :-"
   ]
  },
  {
   "cell_type": "code",
   "execution_count": 3,
   "metadata": {},
   "outputs": [
    {
     "data": {
      "text/plain": [
       "0     1.0\n",
       "1     5.0\n",
       "2     3.0\n",
       "3     NaN\n",
       "4     7.0\n",
       "5     2.0\n",
       "6     8.0\n",
       "7     6.0\n",
       "8    12.0\n",
       "dtype: float64"
      ]
     },
     "execution_count": 3,
     "metadata": {},
     "output_type": "execute_result"
    }
   ],
   "source": [
    "# Creating raw data objects \n",
    "\n",
    "raw = pd.Series([1,5,3,np.nan,7,2,8,6,12])\n",
    "raw"
   ]
  },
  {
   "cell_type": "code",
   "execution_count": 4,
   "metadata": {},
   "outputs": [
    {
     "data": {
      "text/plain": [
       "DatetimeIndex(['2022-01-01', '2022-01-02', '2022-01-03', '2022-01-04',\n",
       "               '2022-01-05', '2022-01-06', '2022-01-07', '2022-01-08',\n",
       "               '2022-01-09', '2022-01-10', '2022-01-11', '2022-01-12',\n",
       "               '2022-01-13', '2022-01-14', '2022-01-15', '2022-01-16',\n",
       "               '2022-01-17', '2022-01-18', '2022-01-19', '2022-01-20',\n",
       "               '2022-01-21', '2022-01-22', '2022-01-23', '2022-01-24',\n",
       "               '2022-01-25', '2022-01-26', '2022-01-27', '2022-01-28',\n",
       "               '2022-01-29', '2022-01-30'],\n",
       "              dtype='datetime64[ns]', freq='D')"
      ]
     },
     "execution_count": 4,
     "metadata": {},
     "output_type": "execute_result"
    }
   ],
   "source": [
    "# Creating dates object\n",
    "dates = pd.date_range(\"01 jan,2022\",periods=30)                    # craeting dates for 30 days\n",
    "dates"
   ]
  },
  {
   "cell_type": "markdown",
   "metadata": {},
   "source": [
    "### convert series of data into data frames :-"
   ]
  },
  {
   "cell_type": "code",
   "execution_count": 5,
   "metadata": {},
   "outputs": [
    {
     "data": {
      "text/html": [
       "<div>\n",
       "<style scoped>\n",
       "    .dataframe tbody tr th:only-of-type {\n",
       "        vertical-align: middle;\n",
       "    }\n",
       "\n",
       "    .dataframe tbody tr th {\n",
       "        vertical-align: top;\n",
       "    }\n",
       "\n",
       "    .dataframe thead th {\n",
       "        text-align: right;\n",
       "    }\n",
       "</style>\n",
       "<table border=\"1\" class=\"dataframe\">\n",
       "  <thead>\n",
       "    <tr style=\"text-align: right;\">\n",
       "      <th></th>\n",
       "      <th>A</th>\n",
       "      <th>B</th>\n",
       "      <th>C</th>\n",
       "    </tr>\n",
       "  </thead>\n",
       "  <tbody>\n",
       "    <tr>\n",
       "      <th>2022-01-01</th>\n",
       "      <td>0.343177</td>\n",
       "      <td>-1.521899</td>\n",
       "      <td>-0.659196</td>\n",
       "    </tr>\n",
       "    <tr>\n",
       "      <th>2022-01-02</th>\n",
       "      <td>1.065163</td>\n",
       "      <td>-0.961290</td>\n",
       "      <td>-0.736672</td>\n",
       "    </tr>\n",
       "    <tr>\n",
       "      <th>2022-01-03</th>\n",
       "      <td>-0.283262</td>\n",
       "      <td>-1.160856</td>\n",
       "      <td>1.947437</td>\n",
       "    </tr>\n",
       "    <tr>\n",
       "      <th>2022-01-04</th>\n",
       "      <td>-0.621083</td>\n",
       "      <td>0.587616</td>\n",
       "      <td>-1.815750</td>\n",
       "    </tr>\n",
       "    <tr>\n",
       "      <th>2022-01-05</th>\n",
       "      <td>0.373781</td>\n",
       "      <td>-0.159081</td>\n",
       "      <td>0.928357</td>\n",
       "    </tr>\n",
       "    <tr>\n",
       "      <th>2022-01-06</th>\n",
       "      <td>-0.645972</td>\n",
       "      <td>-0.955688</td>\n",
       "      <td>-0.451577</td>\n",
       "    </tr>\n",
       "    <tr>\n",
       "      <th>2022-01-07</th>\n",
       "      <td>-0.222173</td>\n",
       "      <td>0.929977</td>\n",
       "      <td>-0.445685</td>\n",
       "    </tr>\n",
       "    <tr>\n",
       "      <th>2022-01-08</th>\n",
       "      <td>0.811670</td>\n",
       "      <td>-1.666115</td>\n",
       "      <td>-0.041432</td>\n",
       "    </tr>\n",
       "    <tr>\n",
       "      <th>2022-01-09</th>\n",
       "      <td>-0.246368</td>\n",
       "      <td>-0.321784</td>\n",
       "      <td>1.360105</td>\n",
       "    </tr>\n",
       "    <tr>\n",
       "      <th>2022-01-10</th>\n",
       "      <td>0.007169</td>\n",
       "      <td>-0.192533</td>\n",
       "      <td>-0.382034</td>\n",
       "    </tr>\n",
       "    <tr>\n",
       "      <th>2022-01-11</th>\n",
       "      <td>0.878150</td>\n",
       "      <td>-0.519113</td>\n",
       "      <td>0.289077</td>\n",
       "    </tr>\n",
       "    <tr>\n",
       "      <th>2022-01-12</th>\n",
       "      <td>-0.990679</td>\n",
       "      <td>2.317962</td>\n",
       "      <td>0.759168</td>\n",
       "    </tr>\n",
       "    <tr>\n",
       "      <th>2022-01-13</th>\n",
       "      <td>0.760895</td>\n",
       "      <td>0.088318</td>\n",
       "      <td>-0.559760</td>\n",
       "    </tr>\n",
       "    <tr>\n",
       "      <th>2022-01-14</th>\n",
       "      <td>0.497683</td>\n",
       "      <td>0.817239</td>\n",
       "      <td>-1.981409</td>\n",
       "    </tr>\n",
       "    <tr>\n",
       "      <th>2022-01-15</th>\n",
       "      <td>0.267496</td>\n",
       "      <td>2.315011</td>\n",
       "      <td>0.689117</td>\n",
       "    </tr>\n",
       "    <tr>\n",
       "      <th>2022-01-16</th>\n",
       "      <td>0.934098</td>\n",
       "      <td>-0.567980</td>\n",
       "      <td>-0.230763</td>\n",
       "    </tr>\n",
       "    <tr>\n",
       "      <th>2022-01-17</th>\n",
       "      <td>1.280171</td>\n",
       "      <td>0.200301</td>\n",
       "      <td>-0.786269</td>\n",
       "    </tr>\n",
       "    <tr>\n",
       "      <th>2022-01-18</th>\n",
       "      <td>-2.182577</td>\n",
       "      <td>-0.913036</td>\n",
       "      <td>-1.460640</td>\n",
       "    </tr>\n",
       "    <tr>\n",
       "      <th>2022-01-19</th>\n",
       "      <td>-1.145322</td>\n",
       "      <td>0.477585</td>\n",
       "      <td>-0.051790</td>\n",
       "    </tr>\n",
       "    <tr>\n",
       "      <th>2022-01-20</th>\n",
       "      <td>-1.957611</td>\n",
       "      <td>0.713907</td>\n",
       "      <td>1.986162</td>\n",
       "    </tr>\n",
       "    <tr>\n",
       "      <th>2022-01-21</th>\n",
       "      <td>0.143341</td>\n",
       "      <td>-0.559340</td>\n",
       "      <td>1.882152</td>\n",
       "    </tr>\n",
       "    <tr>\n",
       "      <th>2022-01-22</th>\n",
       "      <td>0.442129</td>\n",
       "      <td>1.027716</td>\n",
       "      <td>-1.317384</td>\n",
       "    </tr>\n",
       "    <tr>\n",
       "      <th>2022-01-23</th>\n",
       "      <td>0.370043</td>\n",
       "      <td>-1.225269</td>\n",
       "      <td>1.782481</td>\n",
       "    </tr>\n",
       "    <tr>\n",
       "      <th>2022-01-24</th>\n",
       "      <td>1.099869</td>\n",
       "      <td>-2.161027</td>\n",
       "      <td>0.150708</td>\n",
       "    </tr>\n",
       "    <tr>\n",
       "      <th>2022-01-25</th>\n",
       "      <td>-0.600742</td>\n",
       "      <td>1.052245</td>\n",
       "      <td>0.412892</td>\n",
       "    </tr>\n",
       "    <tr>\n",
       "      <th>2022-01-26</th>\n",
       "      <td>-0.293368</td>\n",
       "      <td>-2.854587</td>\n",
       "      <td>0.646776</td>\n",
       "    </tr>\n",
       "    <tr>\n",
       "      <th>2022-01-27</th>\n",
       "      <td>0.392644</td>\n",
       "      <td>-0.473132</td>\n",
       "      <td>3.200790</td>\n",
       "    </tr>\n",
       "    <tr>\n",
       "      <th>2022-01-28</th>\n",
       "      <td>0.604714</td>\n",
       "      <td>1.339314</td>\n",
       "      <td>1.730994</td>\n",
       "    </tr>\n",
       "    <tr>\n",
       "      <th>2022-01-29</th>\n",
       "      <td>-0.082077</td>\n",
       "      <td>-2.221975</td>\n",
       "      <td>-0.760277</td>\n",
       "    </tr>\n",
       "    <tr>\n",
       "      <th>2022-01-30</th>\n",
       "      <td>1.868697</td>\n",
       "      <td>0.602304</td>\n",
       "      <td>-0.128630</td>\n",
       "    </tr>\n",
       "  </tbody>\n",
       "</table>\n",
       "</div>"
      ],
      "text/plain": [
       "                   A         B         C\n",
       "2022-01-01  0.343177 -1.521899 -0.659196\n",
       "2022-01-02  1.065163 -0.961290 -0.736672\n",
       "2022-01-03 -0.283262 -1.160856  1.947437\n",
       "2022-01-04 -0.621083  0.587616 -1.815750\n",
       "2022-01-05  0.373781 -0.159081  0.928357\n",
       "2022-01-06 -0.645972 -0.955688 -0.451577\n",
       "2022-01-07 -0.222173  0.929977 -0.445685\n",
       "2022-01-08  0.811670 -1.666115 -0.041432\n",
       "2022-01-09 -0.246368 -0.321784  1.360105\n",
       "2022-01-10  0.007169 -0.192533 -0.382034\n",
       "2022-01-11  0.878150 -0.519113  0.289077\n",
       "2022-01-12 -0.990679  2.317962  0.759168\n",
       "2022-01-13  0.760895  0.088318 -0.559760\n",
       "2022-01-14  0.497683  0.817239 -1.981409\n",
       "2022-01-15  0.267496  2.315011  0.689117\n",
       "2022-01-16  0.934098 -0.567980 -0.230763\n",
       "2022-01-17  1.280171  0.200301 -0.786269\n",
       "2022-01-18 -2.182577 -0.913036 -1.460640\n",
       "2022-01-19 -1.145322  0.477585 -0.051790\n",
       "2022-01-20 -1.957611  0.713907  1.986162\n",
       "2022-01-21  0.143341 -0.559340  1.882152\n",
       "2022-01-22  0.442129  1.027716 -1.317384\n",
       "2022-01-23  0.370043 -1.225269  1.782481\n",
       "2022-01-24  1.099869 -2.161027  0.150708\n",
       "2022-01-25 -0.600742  1.052245  0.412892\n",
       "2022-01-26 -0.293368 -2.854587  0.646776\n",
       "2022-01-27  0.392644 -0.473132  3.200790\n",
       "2022-01-28  0.604714  1.339314  1.730994\n",
       "2022-01-29 -0.082077 -2.221975 -0.760277\n",
       "2022-01-30  1.868697  0.602304 -0.128630"
      ]
     },
     "execution_count": 5,
     "metadata": {},
     "output_type": "execute_result"
    }
   ],
   "source": [
    "# here we convert the data of dates into data frame and assign random raw values to each of date\n",
    "data_frame = pd.DataFrame(np.random.randn(30,3),index=dates,columns=list(\"ABC\"))\n",
    "data_frame"
   ]
  },
  {
   "cell_type": "code",
   "execution_count": 6,
   "metadata": {},
   "outputs": [
    {
     "data": {
      "text/html": [
       "<div>\n",
       "<style scoped>\n",
       "    .dataframe tbody tr th:only-of-type {\n",
       "        vertical-align: middle;\n",
       "    }\n",
       "\n",
       "    .dataframe tbody tr th {\n",
       "        vertical-align: top;\n",
       "    }\n",
       "\n",
       "    .dataframe thead th {\n",
       "        text-align: right;\n",
       "    }\n",
       "</style>\n",
       "<table border=\"1\" class=\"dataframe\">\n",
       "  <thead>\n",
       "    <tr style=\"text-align: right;\">\n",
       "      <th></th>\n",
       "      <th>Name</th>\n",
       "      <th>Roll#</th>\n",
       "      <th>Class</th>\n",
       "      <th>status</th>\n",
       "    </tr>\n",
       "  </thead>\n",
       "  <tbody>\n",
       "    <tr>\n",
       "      <th>0</th>\n",
       "      <td>obaid</td>\n",
       "      <td>10024</td>\n",
       "      <td>12</td>\n",
       "      <td>pass</td>\n",
       "    </tr>\n",
       "    <tr>\n",
       "      <th>1</th>\n",
       "      <td>zafar</td>\n",
       "      <td>10025</td>\n",
       "      <td>12</td>\n",
       "      <td>fail</td>\n",
       "    </tr>\n",
       "    <tr>\n",
       "      <th>2</th>\n",
       "      <td>kashif</td>\n",
       "      <td>10026</td>\n",
       "      <td>12</td>\n",
       "      <td>fail</td>\n",
       "    </tr>\n",
       "    <tr>\n",
       "      <th>3</th>\n",
       "      <td>hamza</td>\n",
       "      <td>10027</td>\n",
       "      <td>12</td>\n",
       "      <td>pass</td>\n",
       "    </tr>\n",
       "  </tbody>\n",
       "</table>\n",
       "</div>"
      ],
      "text/plain": [
       "     Name  Roll# Class status\n",
       "0   obaid  10024    12   pass\n",
       "1   zafar  10025    12   fail\n",
       "2  kashif  10026    12   fail\n",
       "3   hamza  10027    12   pass"
      ]
     },
     "execution_count": 6,
     "metadata": {},
     "output_type": "execute_result"
    }
   ],
   "source": [
    "### Creating data-frame of result of class using Dictionary \n",
    "\n",
    "class_result = pd.DataFrame(\n",
    "    {\n",
    "       \"Name\":pd.Categorical([\"obaid\",\"zafar\",\"kashif\",\"hamza\"]),\n",
    "       \"Roll#\":pd.Categorical([10024,10025,10026,10027]),\n",
    "       \"Class\":pd.Categorical([12,12,12,12]),\n",
    "       \"status\":pd.Categorical([\"pass\",\"fail\",\"fail\",\"pass\"])\n",
    "    }\n",
    "    )\n",
    "class_result"
   ]
  },
  {
   "cell_type": "markdown",
   "metadata": {},
   "source": [
    "#### **Convert Data-frames into Array**"
   ]
  },
  {
   "cell_type": "code",
   "execution_count": 7,
   "metadata": {},
   "outputs": [
    {
     "data": {
      "text/plain": [
       "array([['obaid', 10024, 12, 'pass'],\n",
       "       ['zafar', 10025, 12, 'fail'],\n",
       "       ['kashif', 10026, 12, 'fail'],\n",
       "       ['hamza', 10027, 12, 'pass']], dtype=object)"
      ]
     },
     "execution_count": 7,
     "metadata": {},
     "output_type": "execute_result"
    }
   ],
   "source": [
    "class_result.to_numpy()"
   ]
  },
  {
   "cell_type": "code",
   "execution_count": 8,
   "metadata": {},
   "outputs": [
    {
     "data": {
      "text/html": [
       "<div>\n",
       "<style scoped>\n",
       "    .dataframe tbody tr th:only-of-type {\n",
       "        vertical-align: middle;\n",
       "    }\n",
       "\n",
       "    .dataframe tbody tr th {\n",
       "        vertical-align: top;\n",
       "    }\n",
       "\n",
       "    .dataframe thead th {\n",
       "        text-align: right;\n",
       "    }\n",
       "</style>\n",
       "<table border=\"1\" class=\"dataframe\">\n",
       "  <thead>\n",
       "    <tr style=\"text-align: right;\">\n",
       "      <th></th>\n",
       "      <th>Name</th>\n",
       "      <th>Roll#</th>\n",
       "      <th>Class</th>\n",
       "      <th>status</th>\n",
       "    </tr>\n",
       "  </thead>\n",
       "  <tbody>\n",
       "    <tr>\n",
       "      <th>count</th>\n",
       "      <td>4</td>\n",
       "      <td>4</td>\n",
       "      <td>4</td>\n",
       "      <td>4</td>\n",
       "    </tr>\n",
       "    <tr>\n",
       "      <th>unique</th>\n",
       "      <td>4</td>\n",
       "      <td>4</td>\n",
       "      <td>1</td>\n",
       "      <td>2</td>\n",
       "    </tr>\n",
       "    <tr>\n",
       "      <th>top</th>\n",
       "      <td>hamza</td>\n",
       "      <td>10024</td>\n",
       "      <td>12</td>\n",
       "      <td>fail</td>\n",
       "    </tr>\n",
       "    <tr>\n",
       "      <th>freq</th>\n",
       "      <td>1</td>\n",
       "      <td>1</td>\n",
       "      <td>4</td>\n",
       "      <td>2</td>\n",
       "    </tr>\n",
       "  </tbody>\n",
       "</table>\n",
       "</div>"
      ],
      "text/plain": [
       "         Name  Roll#  Class status\n",
       "count       4      4      4      4\n",
       "unique      4      4      1      2\n",
       "top     hamza  10024     12   fail\n",
       "freq        1      1      4      2"
      ]
     },
     "execution_count": 8,
     "metadata": {},
     "output_type": "execute_result"
    }
   ],
   "source": [
    "class_result.describe()"
   ]
  },
  {
   "cell_type": "code",
   "execution_count": 9,
   "metadata": {},
   "outputs": [
    {
     "data": {
      "text/html": [
       "<div>\n",
       "<style scoped>\n",
       "    .dataframe tbody tr th:only-of-type {\n",
       "        vertical-align: middle;\n",
       "    }\n",
       "\n",
       "    .dataframe tbody tr th {\n",
       "        vertical-align: top;\n",
       "    }\n",
       "\n",
       "    .dataframe thead th {\n",
       "        text-align: right;\n",
       "    }\n",
       "</style>\n",
       "<table border=\"1\" class=\"dataframe\">\n",
       "  <thead>\n",
       "    <tr style=\"text-align: right;\">\n",
       "      <th></th>\n",
       "      <th>A</th>\n",
       "      <th>B</th>\n",
       "      <th>C</th>\n",
       "    </tr>\n",
       "  </thead>\n",
       "  <tbody>\n",
       "    <tr>\n",
       "      <th>count</th>\n",
       "      <td>30.000000</td>\n",
       "      <td>30.000000</td>\n",
       "      <td>30.000000</td>\n",
       "    </tr>\n",
       "    <tr>\n",
       "      <th>mean</th>\n",
       "      <td>0.095655</td>\n",
       "      <td>-0.198840</td>\n",
       "      <td>0.198565</td>\n",
       "    </tr>\n",
       "    <tr>\n",
       "      <th>std</th>\n",
       "      <td>0.907208</td>\n",
       "      <td>1.262078</td>\n",
       "      <td>1.248103</td>\n",
       "    </tr>\n",
       "    <tr>\n",
       "      <th>min</th>\n",
       "      <td>-2.182577</td>\n",
       "      <td>-2.854587</td>\n",
       "      <td>-1.981409</td>\n",
       "    </tr>\n",
       "    <tr>\n",
       "      <th>25%</th>\n",
       "      <td>-0.290841</td>\n",
       "      <td>-0.959890</td>\n",
       "      <td>-0.634337</td>\n",
       "    </tr>\n",
       "    <tr>\n",
       "      <th>50%</th>\n",
       "      <td>0.305336</td>\n",
       "      <td>-0.257158</td>\n",
       "      <td>-0.046611</td>\n",
       "    </tr>\n",
       "    <tr>\n",
       "      <th>75%</th>\n",
       "      <td>0.721849</td>\n",
       "      <td>0.686006</td>\n",
       "      <td>0.886060</td>\n",
       "    </tr>\n",
       "    <tr>\n",
       "      <th>max</th>\n",
       "      <td>1.868697</td>\n",
       "      <td>2.317962</td>\n",
       "      <td>3.200790</td>\n",
       "    </tr>\n",
       "  </tbody>\n",
       "</table>\n",
       "</div>"
      ],
      "text/plain": [
       "               A          B          C\n",
       "count  30.000000  30.000000  30.000000\n",
       "mean    0.095655  -0.198840   0.198565\n",
       "std     0.907208   1.262078   1.248103\n",
       "min    -2.182577  -2.854587  -1.981409\n",
       "25%    -0.290841  -0.959890  -0.634337\n",
       "50%     0.305336  -0.257158  -0.046611\n",
       "75%     0.721849   0.686006   0.886060\n",
       "max     1.868697   2.317962   3.200790"
      ]
     },
     "execution_count": 9,
     "metadata": {},
     "output_type": "execute_result"
    }
   ],
   "source": [
    "data_frame.describe()"
   ]
  },
  {
   "cell_type": "markdown",
   "metadata": {},
   "source": [
    "### **Plotting a graph of pakistan Hunger and Food insecurity**\n",
    "\n",
    "**Refference :** https://www.fao.org/faostat/en/#country/165"
   ]
  },
  {
   "cell_type": "code",
   "execution_count": 44,
   "metadata": {},
   "outputs": [
    {
     "data": {
      "image/png": "[encoded data removed]",
      "text/plain": [
       "<Figure size 720x864 with 1 Axes>"
      ]
     },
     "metadata": {},
     "output_type": "display_data"
    }
   ],
   "source": [
    "import pandas as pd\n",
    "import numpy as np\n",
    "import matplotlib.pyplot as plt\n",
    "import seaborn as sns\n",
    "import plotly.express as px\n",
    "sns.set_theme(style=\"darkgrid\",color_codes=True)\n",
    "pakistan = pd.read_csv(r\"C:\\Users\\usa35\\OneDrive\\Desktop\\Github\\pakistan.csv\")\n",
    "f, ax = plt.subplots(figsize=(10,12))\n",
    "pk = sns.barplot(x=\"Value\",y=\"Year\",data=pakistan)\n",
    "pk.set_title(\"Pakistan food shortage graph\")\n",
    "plt.show()"
   ]
  },
  {
   "cell_type": "code",
   "execution_count": null,
   "metadata": {},
   "outputs": [],
   "source": []
  },
  {
   "cell_type": "code",
   "execution_count": null,
   "metadata": {},
   "outputs": [],
   "source": []
  },
  {
   "cell_type": "code",
   "execution_count": null,
   "metadata": {},
   "outputs": [],
   "source": [
    ")\n"
   ]
  },
  {
   "cell_type": "code",
   "execution_count": null,
   "metadata": {},
   "outputs": [],
   "source": []
  }
 ],
 "metadata": {
  "interpreter": {
   "hash": "21dafc2371cdd2f391dffb104eeffab0400693f7ea0c196f64d2c7f593c6b779"
  },
  "kernelspec": {
   "display_name": "Python 3.10.1 64-bit",
   "language": "python",
   "name": "python3"
  },
  "language_info": {
   "codemirror_mode": {
    "name": "ipython",
    "version": 3
   },
   "file_extension": ".py",
   "mimetype": "text/x-python",
   "name": "python",
   "nbconvert_exporter": "python",
   "pygments_lexer": "ipython3",
   "version": "3.10.1"
  },
  "orig_nbformat": 4
 },
 "nbformat": 4,
 "nbformat_minor": 2
}
